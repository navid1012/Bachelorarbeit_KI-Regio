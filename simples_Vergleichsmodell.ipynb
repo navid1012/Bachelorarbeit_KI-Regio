{
 "cells": [
  {
   "cell_type": "markdown",
   "metadata": {},
   "source": [
    "Importieren, aller benötigten Packages und einlesen der Trainings-, Test- und Überprüfungsdaten"
   ]
  },
  {
   "cell_type": "code",
   "execution_count": 4,
   "metadata": {},
   "outputs": [],
   "source": [
    "from sklearn.ensemble import RandomForestRegressor\n",
    "from sklearn.model_selection import train_test_split\n",
    "from sklearn.metrics import mean_squared_error\n",
    "import pandas as pd\n",
    "import numpy as np\n",
    "\n",
    "datensatz = pd.read_csv(\"./foot-traffic-wue/train.csv\")\n",
    "\n"
   ]
  },
  {
   "cell_type": "markdown",
   "metadata": {},
   "source": [
    "Trainingsdaten nach Fehlern und unrelevanten Daten bereinigen"
   ]
  },
  {
   "cell_type": "code",
   "execution_count": 5,
   "metadata": {},
   "outputs": [],
   "source": [
    "datensatz_f = datensatz[\n",
    "    ~datensatz['incidents'].isin(['laser_failure'])\n",
    "    ]"
   ]
  },
  {
   "cell_type": "markdown",
   "metadata": {},
   "source": [
    "Markierung der Feiertage im Datensatz"
   ]
  },
  {
   "cell_type": "code",
   "execution_count": 6,
   "metadata": {},
   "outputs": [
    {
     "name": "stderr",
     "output_type": "stream",
     "text": [
      "/var/folders/by/wwdhnctx57b_vhf5wxchq4h00000gn/T/ipykernel_12610/4282932123.py:20: SettingWithCopyWarning: \n",
      "A value is trying to be set on a copy of a slice from a DataFrame.\n",
      "Try using .loc[row_indexer,col_indexer] = value instead\n",
      "\n",
      "See the caveats in the documentation: https://pandas.pydata.org/pandas-docs/stable/user_guide/indexing.html#returning-a-view-versus-a-copy\n",
      "  datensatz_f['is_feiertag'] = datensatz_f['date'].apply(lambda x: 'Ja' if x in feiertage_set else 'Nein')\n"
     ]
    }
   ],
   "source": [
    "# Liste der Feiertage\n",
    "feiertage = [\n",
    "    '2019-04-19', '2019-04-22', '2019-05-01', '2019-05-30', '2019-06-10', '2019-06-20', '2019-08-15',\n",
    "    '2019-10-03', '2019-11-01', '2019-12-25', '2019-12-26', '2020-01-01', '2020-01-06', '2020-04-10',\n",
    "    '2020-04-13', '2020-05-01', '2020-05-21', '2020-06-01', '2020-06-11', '2020-08-15', '2020-10-03',\n",
    "    '2020-11-01', '2020-12-25', '2020-12-26', '2021-01-01', '2021-01-06', '2021-04-02', '2021-04-05',\n",
    "    '2021-05-01', '2021-05-13', '2021-05-24', '2021-06-03', '2021-08-15', '2021-10-03', '2021-11-01',\n",
    "    '2021-12-25', '2021-12-26', '2022-01-01', '2022-01-06', '2022-04-15', '2022-04-18', '2022-05-01',\n",
    "    '2022-05-26', '2022-06-06', '2022-06-16', '2022-08-15', '2022-10-03', '2022-11-01', '2022-12-25',\n",
    "    '2022-12-26', '2023-01-01', '2023-01-06', '2023-04-07', '2023-04-10', '2023-05-01', '2023-05-18',\n",
    "    '2023-05-29', '2023-06-08', '2023-08-15', '2023-10-03', '2023-11-01', '2023-12-25', '2023-12-26',\n",
    "    '2024-01-01', '2024-01-06', '2024-03-29', '2024-04-01', '2024-05-01', '2024-05-09', '2024-05-20',\n",
    "    '2024-05-30', '2024-08-15'\n",
    "]\n",
    "\n",
    "# Konvertiere die Feiertage zu einem Set für eine schnellere Suche\n",
    "feiertage_set = set(feiertage)\n",
    "\n",
    "# Erstelle die neue Spalte \"is_feiertag\"\n",
    "datensatz_f['is_feiertag'] = datensatz_f['date'].apply(lambda x: 'Ja' if x in feiertage_set else 'Nein')\n"
   ]
  },
  {
   "cell_type": "markdown",
   "metadata": {},
   "source": [
    "Aufteilung der Spalte date in year, month und day "
   ]
  },
  {
   "cell_type": "code",
   "execution_count": 7,
   "metadata": {},
   "outputs": [
    {
     "name": "stderr",
     "output_type": "stream",
     "text": [
      "/var/folders/by/wwdhnctx57b_vhf5wxchq4h00000gn/T/ipykernel_12610/3628733809.py:2: SettingWithCopyWarning: \n",
      "A value is trying to be set on a copy of a slice from a DataFrame.\n",
      "Try using .loc[row_indexer,col_indexer] = value instead\n",
      "\n",
      "See the caveats in the documentation: https://pandas.pydata.org/pandas-docs/stable/user_guide/indexing.html#returning-a-view-versus-a-copy\n",
      "  datensatz_f['date'] = pd.to_datetime(datensatz_f['date'])\n",
      "/var/folders/by/wwdhnctx57b_vhf5wxchq4h00000gn/T/ipykernel_12610/3628733809.py:5: SettingWithCopyWarning: \n",
      "A value is trying to be set on a copy of a slice from a DataFrame.\n",
      "Try using .loc[row_indexer,col_indexer] = value instead\n",
      "\n",
      "See the caveats in the documentation: https://pandas.pydata.org/pandas-docs/stable/user_guide/indexing.html#returning-a-view-versus-a-copy\n",
      "  datensatz_f['year'] = datensatz_f['date'].dt.year\n",
      "/var/folders/by/wwdhnctx57b_vhf5wxchq4h00000gn/T/ipykernel_12610/3628733809.py:6: SettingWithCopyWarning: \n",
      "A value is trying to be set on a copy of a slice from a DataFrame.\n",
      "Try using .loc[row_indexer,col_indexer] = value instead\n",
      "\n",
      "See the caveats in the documentation: https://pandas.pydata.org/pandas-docs/stable/user_guide/indexing.html#returning-a-view-versus-a-copy\n",
      "  datensatz_f['month'] = datensatz_f['date'].dt.month\n",
      "/var/folders/by/wwdhnctx57b_vhf5wxchq4h00000gn/T/ipykernel_12610/3628733809.py:7: SettingWithCopyWarning: \n",
      "A value is trying to be set on a copy of a slice from a DataFrame.\n",
      "Try using .loc[row_indexer,col_indexer] = value instead\n",
      "\n",
      "See the caveats in the documentation: https://pandas.pydata.org/pandas-docs/stable/user_guide/indexing.html#returning-a-view-versus-a-copy\n",
      "  datensatz_f['day'] = datensatz_f['date'].dt.day\n"
     ]
    }
   ],
   "source": [
    "# Konvertiere die Spalte 'date' in ein Datetime-Format\n",
    "datensatz_f['date'] = pd.to_datetime(datensatz_f['date'])\n",
    "\n",
    "# Zerlege die Spalte in 'year', 'month' und 'day'\n",
    "datensatz_f['year'] = datensatz_f['date'].dt.year\n",
    "datensatz_f['month'] = datensatz_f['date'].dt.month\n",
    "datensatz_f['day'] = datensatz_f['date'].dt.day\n"
   ]
  },
  {
   "cell_type": "markdown",
   "metadata": {},
   "source": [
    "Zusammenführen der Wetterbedingungen, welche in Tag und Nacht unterteilt sind "
   ]
  },
  {
   "cell_type": "code",
   "execution_count": 8,
   "metadata": {},
   "outputs": [
    {
     "name": "stderr",
     "output_type": "stream",
     "text": [
      "/var/folders/by/wwdhnctx57b_vhf5wxchq4h00000gn/T/ipykernel_12610/522024696.py:2: SettingWithCopyWarning: \n",
      "A value is trying to be set on a copy of a slice from a DataFrame.\n",
      "Try using .loc[row_indexer,col_indexer] = value instead\n",
      "\n",
      "See the caveats in the documentation: https://pandas.pydata.org/pandas-docs/stable/user_guide/indexing.html#returning-a-view-versus-a-copy\n",
      "  datensatz_f['weather_condition'] = datensatz_f['weather_condition'].replace({\n"
     ]
    }
   ],
   "source": [
    "# Werte zusammenführen\n",
    "datensatz_f['weather_condition'] = datensatz_f['weather_condition'].replace({\n",
    "    'partly-cloudy-day': 'partly-cloudy',\n",
    "    'partly-cloudy-night': 'partly-cloudy',\n",
    "    'clear-day': 'clear',\n",
    "    'clear-night': 'clear'\n",
    "})"
   ]
  },
  {
   "cell_type": "markdown",
   "metadata": {},
   "source": [
    "Vorverarbeitung der Trainingsdaten"
   ]
  },
  {
   "cell_type": "code",
   "execution_count": 11,
   "metadata": {},
   "outputs": [],
   "source": [
    "\n",
    "datensatz_train, datensatz_test = train_test_split(datensatz_f, test_size=0.1, shuffle=True)\n",
    "\n",
    "datensatz_mean = datensatz_train.groupby(['hour', 'streetname', 'weekday']).agg({\n",
    "    'n_pedestrians': 'mean',\n",
    "    'n_pedestrians_towards': 'mean',\n",
    "    'n_pedestrians_away': 'mean'\n",
    "        }).reset_index()\n",
    "\n",
    "# Index sicherstellen\n",
    "datensatz_mean = datensatz_mean.reset_index(drop=True)\n",
    "\n",
    "# Multiindex erstellen\n",
    "datensatz_mean.set_index(['hour', 'streetname', 'weekday'], inplace=True, drop=False)\n"
   ]
  },
  {
   "cell_type": "markdown",
   "metadata": {},
   "source": [
    "Saisonales Vergleichsmodell"
   ]
  },
  {
   "cell_type": "code",
   "execution_count": 14,
   "metadata": {},
   "outputs": [
    {
     "name": "stdout",
     "output_type": "stream",
     "text": [
      "Mean Squared Error (MSE): 108037.9584269591\n",
      "Root Mean Squared Error (RMSE): 328.6912813370003\n"
     ]
    }
   ],
   "source": [
    "from sklearn.metrics import mean_squared_error\n",
    "from pandas.tseries.offsets import DateOffset\n",
    "\n",
    "# Tatsächliche Werte und vorhergesagte Werte extrahieren\n",
    "actual_values = []\n",
    "predicted_values = []\n",
    "\n",
    "# Iteriere über jede Zeile des Datensatzes\n",
    "for index in range(len(datensatz_train)):\n",
    "    current_data = datensatz_train.iloc[index]\n",
    "\n",
    "    previous_data = datensatz_mean.loc[(current_data['hour'], current_data['streetname'], current_data['weekday'])]\n",
    "    \n",
    "    # Vergleich der Stunden von current_data und previous_data\n",
    "    assert current_data['hour'] == previous_data['hour'], \"Hours do not match between current and previous data\"\n",
    "    \n",
    "    # Speichern der Vorhersagen\n",
    "    predicted_values.append([previous_data['n_pedestrians'], previous_data['n_pedestrians_towards'], previous_data['n_pedestrians_away']])\n",
    "    actual_values.append([current_data['n_pedestrians'], current_data['n_pedestrians_towards'], current_data['n_pedestrians_away']])\n",
    "\n",
    "\n",
    "# MSE berechnen \n",
    "mse = mean_squared_error(actual_values, predicted_values)\n",
    "rmse = np.sqrt(mse)\n",
    "\n",
    "# Ausgabe der Fehlerraten\n",
    "print(f\"Mean Squared Error (MSE): {mse}\")\n",
    "print(f\"Root Mean Squared Error (RMSE): {rmse}\")\n",
    "\n"
   ]
  }
 ],
 "metadata": {
  "kernelspec": {
   "display_name": ".venv",
   "language": "python",
   "name": "python3"
  },
  "language_info": {
   "codemirror_mode": {
    "name": "ipython",
    "version": 3
   },
   "file_extension": ".py",
   "mimetype": "text/x-python",
   "name": "python",
   "nbconvert_exporter": "python",
   "pygments_lexer": "ipython3",
   "version": "3.9.6"
  }
 },
 "nbformat": 4,
 "nbformat_minor": 2
}
